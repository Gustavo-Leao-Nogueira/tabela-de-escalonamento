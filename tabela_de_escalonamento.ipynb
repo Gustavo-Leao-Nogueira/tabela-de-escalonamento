{
  "nbformat": 4,
  "nbformat_minor": 0,
  "metadata": {
    "colab": {
      "name": "tabela-de-escalonamento",
      "provenance": [],
      "collapsed_sections": [],
      "include_colab_link": true
    },
    "kernelspec": {
      "name": "python3",
      "display_name": "Python 3"
    }
  },
  "cells": [
    {
      "cell_type": "markdown",
      "metadata": {
        "id": "view-in-github",
        "colab_type": "text"
      },
      "source": [
        "<a href=\"https://colab.research.google.com/github/Gustavo-Leao-Nogueira/tabela-de-escalonamento/blob/master/tabela_de_escalonamento.ipynb\" target=\"_parent\"><img src=\"https://colab.research.google.com/assets/colab-badge.svg\" alt=\"Open In Colab\"/></a>"
      ]
    },
    {
      "cell_type": "markdown",
      "metadata": {
        "id": "JHDtnE97gaPy",
        "colab_type": "text"
      },
      "source": [
        "# Calculador de tabelas de escalonamento\n",
        "Este programa deve calcular tabelas de escalonamento."
      ]
    },
    {
      "cell_type": "code",
      "metadata": {
        "id": "Mglr7fVkft_a",
        "colab_type": "code",
        "colab": {
          "base_uri": "https://localhost:8080/",
          "height": 136
        },
        "outputId": "026cd0e0-017b-4d19-8dfa-769d4e2bfd42"
      },
      "source": [
        "from random import *\n",
        "from tabulate import *\n",
        "from time import  *\n",
        "\n",
        "def gera_tabela(lista=[], tempo=5, timeslice=2):\n",
        "    for item in range(randrange(1, tempo)):\n",
        "        prioridades = [ 'Alta', 'Baixa']\n",
        "        tempo1 = randint(5, 10)\n",
        "        tempo2 = randint(5, 10)\n",
        "        tempo3 = randint(5, 10)\n",
        "\n",
        "        lista.append([ choice(prioridades), tempo1, tempo2, tempo3, timeslice])\n",
        "    return lista\n",
        "\n",
        "lista_de_itens = gera_tabela()\n",
        "print(tabulate(lista_de_itens, headers=['Prioridade', 'Tempo 1', 'Despositivo', 'Tempo 2', 'Timeslice'], tablefmt='simple'))\n",
        "\n",
        "for item in lista:\n",
        "    for cont, i in enumerate(item):\n",
        "        if cont >= 1 and  cont < len(item)-1:\n",
        "            tempo = 0\n",
        "            for j in range(0, int(i)):\n",
        "                if i == item[1]:\n",
        "                    print('.', end='')\n",
        "                if i == item[2]:\n",
        "                    print('d', end='')\n",
        "                if i == item[3]:\n",
        "                    print('x', end='')\n",
        "                if tempo == 1:\n",
        "                    sleep(int(len(item))-1)\n",
        "                    tempo=0\n",
        "                else:\n",
        "                    sleep(0.5)\n",
        "                    tempo += 1 \n",
        "\n",
        "\n"
      ],
      "execution_count": 74,
      "outputs": [
        {
          "output_type": "stream",
          "text": [
            "Prioridade      Tempo 1    Despositivo    Tempo 2    Timeslice\n",
            "------------  ---------  -------------  ---------  -----------\n",
            "Baixa                 8              5          5            2\n",
            "Baixa                 9              8          6            2\n",
            "Alta                  6              6          9            2\n",
            "Alta                  5             10          6            2\n",
            ".......ddddddddddxxxxxx"
          ],
          "name": "stdout"
        }
      ]
    },
    {
      "cell_type": "code",
      "metadata": {
        "id": "RZxFpj6wslZO",
        "colab_type": "code",
        "colab": {}
      },
      "source": [
        ""
      ],
      "execution_count": 0,
      "outputs": []
    }
  ]
}